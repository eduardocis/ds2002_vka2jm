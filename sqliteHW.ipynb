{
 "cells": [
  {
   "cell_type": "code",
   "execution_count": 94,
   "id": "1438fc75-3735-441d-9132-ad094851a372",
   "metadata": {},
   "outputs": [
    {
     "name": "stdout",
     "output_type": "stream",
     "text": [
      "Database created and connected!\n"
     ]
    }
   ],
   "source": [
    "import sqlite3\n",
    "\n",
    "# Create or connect to an SQLite database\n",
    "connection = sqlite3.connect('student_grades.db')\n",
    "\n",
    "# Check if the connection was successful\n",
    "print(\"Database created and connected!\")"
   ]
  },
  {
   "cell_type": "code",
   "execution_count": 96,
   "id": "aa722378-f25f-4558-a08d-05e0f836d768",
   "metadata": {},
   "outputs": [
    {
     "name": "stdout",
     "output_type": "stream",
     "text": [
      "Cursor created!\n"
     ]
    }
   ],
   "source": [
    "# Create a cursor object\n",
    "cursor = connection.cursor()\n",
    "\n",
    "# Explanation\n",
    "print(\"Cursor created!\")"
   ]
  },
  {
   "cell_type": "code",
   "execution_count": 98,
   "id": "38ceb482-148f-4815-ae07-6ecc255656bf",
   "metadata": {},
   "outputs": [
    {
     "data": {
      "text/plain": [
       "<sqlite3.Cursor at 0x1555c2140>"
      ]
     },
     "execution_count": 98,
     "metadata": {},
     "output_type": "execute_result"
    }
   ],
   "source": [
    "# create student and grade tables\n",
    "cursor.execute('''\n",
    "\n",
    "CREATE TABLE IF NOT EXISTS students (\n",
    "    student_id INTEGER PRIMARY KEY AUTOINCREMENT,\n",
    "    first_name TEXT NOT NULL,\n",
    "    last_name TEXT NOT NULL\n",
    "    )\n",
    "    \n",
    "''')\n",
    "\n",
    "cursor.execute('''\n",
    "\n",
    "CREATE TABLE IF NOT EXISTS grades (\n",
    "    grade_id INTEGER PRIMARY KEY AUTOINCREMENT,\n",
    "    student_id INTEGER,\n",
    "    subject TEXT,\n",
    "    grade INTEGER,\n",
    "    FOREIGN KEY (student_id) REFERENCES students(student_id)\n",
    ")\n",
    "    \n",
    "''')"
   ]
  },
  {
   "cell_type": "code",
   "execution_count": 100,
   "id": "38a751c5-2348-4750-b084-a4e2cfd6c425",
   "metadata": {},
   "outputs": [],
   "source": [
    "# insert data into the table\n",
    "\n",
    "student_data = [\n",
    "    (\"Alice\", \"Johnson\"),\n",
    "    (\"Bob\", \"Smith\"),\n",
    "    (\"Carol\", \"White\"),\n",
    "    (\"David\", \"Brown\"),\n",
    "    (\"Eve\", \"Davis\")\n",
    "]\n",
    "\n",
    "cursor.executemany('''\n",
    "\n",
    "INSERT INTO students (first_name, last_name) VALUES (?,?)\n",
    "\n",
    "''', student_data)\n",
    "\n",
    "connection.commit()\n",
    "\n",
    "grade_data = [\n",
    "    (1, \"English\", 88),\n",
    "    (1, \"Math\", 87),\n",
    "    (1, \"History\", 76),\n",
    "    (2, \"English\", 83),\n",
    "    (2, \"Math\", 89),\n",
    "    (2, \"History\", 90),\n",
    "    (3, \"English\", 72),\n",
    "    (3, \"Math\", 78),\n",
    "    (3, \"History\", 56),\n",
    "    (4, \"English\", 87),\n",
    "    (4, \"Math\", 67),\n",
    "    (4, \"History\", 71),\n",
    "    (5, \"English\", 93),\n",
    "    (5, \"Math\", 95),\n",
    "    (5, \"History\", 98),\n",
    "]\n",
    "\n",
    "cursor.executemany('''\n",
    "\n",
    "INSERT INTO grades (student_id, subject, grade) VALUES (?,?,?)\n",
    "\n",
    "''', grade_data)\n",
    "\n",
    "connection.commit()"
   ]
  },
  {
   "cell_type": "code",
   "execution_count": 102,
   "id": "9c75585a-3229-4b5e-b7f3-8578a28d3308",
   "metadata": {},
   "outputs": [
    {
     "name": "stdout",
     "output_type": "stream",
     "text": [
      "Student Names and Their Grades:\n",
      "('Alice', 'Johnson', 'English', 88)\n",
      "('Alice', 'Johnson', 'Math', 87)\n",
      "('Alice', 'Johnson', 'History', 76)\n",
      "('Bob', 'Smith', 'English', 83)\n",
      "('Bob', 'Smith', 'Math', 89)\n",
      "('Bob', 'Smith', 'History', 90)\n",
      "('Carol', 'White', 'English', 72)\n",
      "('Carol', 'White', 'Math', 78)\n",
      "('Carol', 'White', 'History', 56)\n",
      "('David', 'Brown', 'English', 87)\n",
      "('David', 'Brown', 'Math', 67)\n",
      "('David', 'Brown', 'History', 71)\n",
      "('Eve', 'Davis', 'English', 93)\n",
      "('Eve', 'Davis', 'Math', 95)\n",
      "('Eve', 'Davis', 'History', 98)\n"
     ]
    }
   ],
   "source": [
    "# Retrieve all students' names and their grades\n",
    "cursor.execute('''\n",
    "    SELECT s.first_name, s.last_name, g.subject, g.grade\n",
    "    FROM students s\n",
    "    JOIN grades g ON s.student_id = g.student_id\n",
    "''')\n",
    "\n",
    "data1 = cursor.fetchall()\n",
    "\n",
    "print(\"Student names and their grades:\")\n",
    "for row in data1:\n",
    "    print(row)"
   ]
  },
  {
   "cell_type": "code",
   "execution_count": 106,
   "id": "aef47fbc-827c-40f9-b608-9a779d7553df",
   "metadata": {},
   "outputs": [
    {
     "name": "stdout",
     "output_type": "stream",
     "text": [
      "Average grade for each student:\n",
      "('Alice', 'Johnson', 83.66666666666667)\n",
      "('Bob', 'Smith', 87.33333333333333)\n",
      "('Carol', 'White', 68.66666666666667)\n",
      "('David', 'Brown', 75.0)\n",
      "('Eve', 'Davis', 95.33333333333333)\n"
     ]
    }
   ],
   "source": [
    "# Find the average grade for each student\n",
    "cursor.execute('''\n",
    "    SELECT s.first_name, s.last_name, AVG(g.grade) as avg_g\n",
    "    FROM students s\n",
    "    JOIN grades g ON s.student_id = g.student_id\n",
    "    GROUP BY s.student_id\n",
    "''')\n",
    "\n",
    "data2 = cursor.fetchall()\n",
    "\n",
    "print(\"Average grade for each student:\")\n",
    "for row in data2:\n",
    "    print(row)"
   ]
  },
  {
   "cell_type": "code",
   "execution_count": 114,
   "id": "d2b21570-ced5-4874-9919-4dee9e80b70d",
   "metadata": {},
   "outputs": [
    {
     "name": "stdout",
     "output_type": "stream",
     "text": [
      "Student with highest average grade:\n",
      "('Eve', 'Davis', 95.33333333333333)\n"
     ]
    }
   ],
   "source": [
    "# Find student with highest average grade\n",
    "cursor.execute('''\n",
    "    SELECT s.first_name, s.last_name, AVG(g.grade) as avg_g\n",
    "    FROM students s\n",
    "    JOIN grades g ON s.student_id = g.student_id\n",
    "    GROUP BY s.student_id\n",
    "    ORDER BY avg_g DESC\n",
    "    LIMIT 1\n",
    "''')\n",
    "\n",
    "data3 = cursor.fetchall()\n",
    "\n",
    "print(\"Student with highest average grade:\")\n",
    "for row in data3:\n",
    "    print(row)"
   ]
  },
  {
   "cell_type": "code",
   "execution_count": 124,
   "id": "33a2c016-bea0-4350-bd64-7da62c605be0",
   "metadata": {},
   "outputs": [
    {
     "name": "stdout",
     "output_type": "stream",
     "text": [
      "Average math grade:(83.2,)\n"
     ]
    }
   ],
   "source": [
    "# Find student with highest average grade\n",
    "cursor.execute('''\n",
    "    SELECT AVG(grade)\n",
    "    FROM grades\n",
    "    WHERE subject = \"Math\"\n",
    "''')\n",
    "\n",
    "data4 = cursor.fetchone()\n",
    "\n",
    "print(\"Average math grade:\" + str(data4))"
   ]
  },
  {
   "cell_type": "code",
   "execution_count": 128,
   "id": "611c242d-4468-4f99-be54-f58a0d2792d6",
   "metadata": {},
   "outputs": [
    {
     "name": "stdout",
     "output_type": "stream",
     "text": [
      "Student who scored above 90 in any subject:\n",
      "('Eve', 'Davis')\n"
     ]
    }
   ],
   "source": [
    "# List all students who scored above 90 in any subject\n",
    "cursor.execute('''\n",
    "    SELECT s.first_name, s.last_name\n",
    "    FROM students s\n",
    "    JOIN grades g ON s.student_id = g.student_id\n",
    "    WHERE grade > 90\n",
    "    GROUP BY s.first_name, s.last_name\n",
    "''')\n",
    "\n",
    "data5 = cursor.fetchall()\n",
    "\n",
    "print(\"Student who scored above 90 in any subject:\")\n",
    "for row in data5:\n",
    "    print(row)"
   ]
  },
  {
   "cell_type": "code",
   "execution_count": 142,
   "id": "61885517-5570-4f94-a74d-14ee94bea888",
   "metadata": {},
   "outputs": [],
   "source": [
    "# dataframe setup\n",
    "import pandas as pd\n",
    "\n",
    "# Query the sales data into a DataFrame\n",
    "df1 = pd.read_sql_query('SELECT * FROM students', connection)\n",
    "df2 = pd.read_sql_query('SELECT * FROM grades', connection)\n",
    "\n",
    "df = pd.merge(df1, df2, on='student_id')"
   ]
  },
  {
   "cell_type": "code",
   "execution_count": 155,
   "id": "5d73b71a-9baa-4f69-8b01-c54df351f98e",
   "metadata": {},
   "outputs": [
    {
     "data": {
      "image/png": "[encoded data removed]",
      "text/plain": [
       "<Figure size 1000x600 with 1 Axes>"
      ]
     },
     "metadata": {},
     "output_type": "display_data"
    }
   ],
   "source": [
    "# Plot the average grades for each student\n",
    "import matplotlib.pyplot as plt\n",
    "\n",
    "avg_student_grades = df.groupby('student_id')['grade'].mean().reset_index()\n",
    "plt.figure(figsize=(10,6))\n",
    "plt.bar(avg_student_grades['student_id'], avg_student_grades['grade'], color='lightblue')\n",
    "plt.xlabel('Student')\n",
    "plt.ylabel('Average Grade')\n",
    "plt.title('Average Grade for Each Student')\n",
    "plt.show()"
   ]
  },
  {
   "cell_type": "code",
   "execution_count": 157,
   "id": "f26ea636-89ef-45b1-83e0-8d6f9ffdcbe2",
   "metadata": {},
   "outputs": [
    {
     "data": {
      "image/png": "[encoded data removed]",
      "text/plain": [
       "<Figure size 1000x600 with 1 Axes>"
      ]
     },
     "metadata": {},
     "output_type": "display_data"
    }
   ],
   "source": [
    "# Plot the average grades for each subject\n",
    "import matplotlib.pyplot as plt\n",
    "\n",
    "avg_subject_grades = df.groupby('subject')['grade'].mean().reset_index()\n",
    "plt.figure(figsize=(10,6))\n",
    "plt.bar(avg_subject_grades['subject'], avg_subject_grades['grade'], color='lightblue')\n",
    "plt.xlabel('Subject')\n",
    "plt.ylabel('Average Grade')\n",
    "plt.title('Average Grade for Each Subject')\n",
    "plt.show()"
   ]
  },
  {
   "cell_type": "code",
   "execution_count": 195,
   "id": "72c25b32-16f9-4cd9-8774-71437f4ec5cc",
   "metadata": {},
   "outputs": [
    {
     "data": {
      "text/html": [
       "<div>\n",
       "<style scoped>\n",
       "    .dataframe tbody tr th:only-of-type {\n",
       "        vertical-align: middle;\n",
       "    }\n",
       "\n",
       "    .dataframe tbody tr th {\n",
       "        vertical-align: top;\n",
       "    }\n",
       "\n",
       "    .dataframe thead th {\n",
       "        text-align: right;\n",
       "    }\n",
       "</style>\n",
       "<table border=\"1\" class=\"dataframe\">\n",
       "  <thead>\n",
       "    <tr style=\"text-align: right;\">\n",
       "      <th></th>\n",
       "      <th>first_name</th>\n",
       "      <th>last_name</th>\n",
       "      <th>subject</th>\n",
       "      <th>grade</th>\n",
       "    </tr>\n",
       "  </thead>\n",
       "  <tbody>\n",
       "    <tr>\n",
       "      <th>0</th>\n",
       "      <td>Eve</td>\n",
       "      <td>Davis</td>\n",
       "      <td>English</td>\n",
       "      <td>93</td>\n",
       "    </tr>\n",
       "    <tr>\n",
       "      <th>1</th>\n",
       "      <td>Eve</td>\n",
       "      <td>Davis</td>\n",
       "      <td>Math</td>\n",
       "      <td>95</td>\n",
       "    </tr>\n",
       "    <tr>\n",
       "      <th>2</th>\n",
       "      <td>Eve</td>\n",
       "      <td>Davis</td>\n",
       "      <td>History</td>\n",
       "      <td>98</td>\n",
       "    </tr>\n",
       "  </tbody>\n",
       "</table>\n",
       "</div>"
      ],
      "text/plain": [
       "  first_name last_name  subject  grade\n",
       "0        Eve     Davis  English     93\n",
       "1        Eve     Davis     Math     95\n",
       "2        Eve     Davis  History     98"
      ]
     },
     "execution_count": 195,
     "metadata": {},
     "output_type": "execute_result"
    }
   ],
   "source": [
    "# bonus stuff 1\n",
    "import matplotlib.pyplot as plt\n",
    "\n",
    "# Find the average grade for each student\n",
    "cursor.execute('''\n",
    "    SELECT s.first_name, s.last_name, g.subject, g.grade\n",
    "    FROM students s\n",
    "    JOIN grades g ON s.student_id = g.student_id\n",
    "    WHERE g.grade = (\n",
    "        SELECT MAX(grade)\n",
    "        FROM grades\n",
    "        WHERE subject = g.subject\n",
    "    )\n",
    "''')\n",
    "\n",
    "data6 = cursor.fetchall()\n",
    "\n",
    "# Create a DataFrame with appropriate column names\n",
    "df = pd.DataFrame(data6, columns=['first_name', 'last_name', 'subject', 'grade'])\n",
    "\n",
    "df"
   ]
  },
  {
   "cell_type": "code",
   "execution_count": 181,
   "id": "540a3169-312c-4a6f-a33b-62026acb6d0f",
   "metadata": {},
   "outputs": [],
   "source": [
    "# bonus stuff 2\n"
   ]
  },
  {
   "cell_type": "code",
   "execution_count": null,
   "id": "23da59ed-e9f8-418e-bff7-2061d85b2899",
   "metadata": {},
   "outputs": [],
   "source": []
  }
 ],
 "metadata": {
  "kernelspec": {
   "display_name": "Python 3 (ipykernel)",
   "language": "python",
   "name": "python3"
  },
  "language_info": {
   "codemirror_mode": {
    "name": "ipython",
    "version": 3
   },
   "file_extension": ".py",
   "mimetype": "text/x-python",
   "name": "python",
   "nbconvert_exporter": "python",
   "pygments_lexer": "ipython3",
   "version": "3.12.4"
  }
 },
 "nbformat": 4,
 "nbformat_minor": 5
}
